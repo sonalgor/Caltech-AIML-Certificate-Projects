{
 "cells": [
  {
   "cell_type": "markdown",
   "metadata": {},
   "source": [
    "### Problem Statement:\n",
    "\n",
    "In ever-changing competitive market conditions, there is a need to make correct \n",
    "decisions and plans for future events related to business like sales, production, and \n",
    "many more. The effectiveness of a decision taken by business managers is influenced by \n",
    "the accuracy of the models used. Demand is the most important aspect of a business's \n",
    "ability to achieve its objectives. Many decisions in business depend on **demand**, like \n",
    "production, sales, and staff requirements. **Forecasting** is necessary for business at both \n",
    "international and domestic levels.\n",
    "\n",
    "### Problem Objective\n",
    "\n",
    "Fresh Analytics, a data analytics company, aims to **comprehend and predict the demand \n",
    "for various items across restaurants.** The primary goal of the project is to **determine the \n",
    "sales of items across different restaurants over the years.**"
   ]
  },
  {
   "cell_type": "markdown",
   "metadata": {},
   "source": [
    "### Outline\n",
    "\n",
    "Preliminary analysis:\n",
    "a. Import the datasets into the Python environment \n",
    "b. Examine the dataset's shape and structure, and look out for any outlier \n",
    "c. Merge the datasets into a single dataset that includes the date, item id, price, item count, item \n",
    "names, kcal values, store id, and store name\n",
    "\n",
    "Exploratory data analysis:\n",
    "a. Examine the overall date wise sales to understand the pattern \n",
    "b. Find out how sales fluctuate across different days of the week \n",
    "c. Look for any noticeable trends in the sales data for different months of the year \n",
    "d. Examine the sales distribution across different quarters averaged over the years. Identify any \n",
    "noticeable patterns. \n",
    "e. Compare the performances of the different restaurants. Find out which restaurant had the most \n",
    "sales and look at the sales for each restaurant across different years, months, and days.\n",
    "f. Identify the most popular items overall and the stores where they are being sold. Also, find \n",
    "out the most popular item at each store \n",
    "g. Determine if the store with the highest sales volume is also making the most money per day \n",
    "h. Identify the most expensive item at each restaurant and find out its calorie count\n",
    "\n",
    "Forecasting using machine learning algorithms:\n",
    "a. Build and compare linear regression, random forest, and XGBoost models for predictions \n",
    "• Generate necessary features for the development of these models, like day of the week, \n",
    "quarter of the year, month, year, day of the month and so on\n",
    "• Use the data from the last six months as the testing data \n",
    "• Compute the root mean square error (RMSE) values for each model to compare their \n",
    "performances \n",
    "• Use the best-performing models to make a forecast for the next year\n",
    "\n",
    "Forecasting using deep learning algorithms:\n",
    "a. Use sales amount for predictions instead of item count\n",
    "b. Build a long short-term memory (LSTM) model for predictions \n",
    "• Define the train and test series \n",
    "• Generate synthetic data for the last 12 months \n",
    "• Build and train an LSTM model \n",
    "• Use the model to make predictions for the test data \n",
    "c. Calculate the mean absolute percentage error (MAPE) and comment on the model's performance \n",
    "d. Develop another model using the entire series for training, and use it to forecast for the next three \n",
    "months\n",
    "\n"
   ]
  },
  {
   "cell_type": "markdown",
   "metadata": {},
   "source": [
    "### Import Required Libraries"
   ]
  },
  {
   "cell_type": "code",
   "execution_count": 115,
   "metadata": {},
   "outputs": [],
   "source": [
    "import pandas as pd\n",
    "import numpy as np\n",
    "import matplotlib.pyplot as plt\n",
    "import seaborn as sns"
   ]
  },
  {
   "cell_type": "markdown",
   "metadata": {},
   "source": [
    "### Import the datasets, examine their shape and structure, look for outliers and merge them into one dataset"
   ]
  },
  {
   "cell_type": "code",
   "execution_count": 116,
   "metadata": {},
   "outputs": [],
   "source": [
    "# Define the file paths\n",
    "\n",
    "restaurants_file_path = r\"C:\\Users\\Sonal\\Downloads\\Datasets (2) - capstone\\Capstone 3\\resturants.csv\"\n",
    "sales_file_path = r\"C:\\Users\\Sonal\\Downloads\\Datasets (2) - capstone\\Capstone 3\\sales.csv\"\n",
    "items_file_path = r\"C:\\Users\\Sonal\\Downloads\\Datasets (2) - capstone\\Capstone 3\\items.csv\""
   ]
  },
  {
   "cell_type": "code",
   "execution_count": 117,
   "metadata": {},
   "outputs": [],
   "source": [
    "# Create a dataframe for each dataset\n",
    "\n",
    "restaurants_df = pd.read_csv(restaurants_file_path)\n",
    "sales_df = pd.read_csv(sales_file_path)\n",
    "items_df = pd.read_csv(items_file_path)"
   ]
  },
  {
   "cell_type": "code",
   "execution_count": 118,
   "metadata": {},
   "outputs": [
    {
     "data": {
      "text/plain": [
       "(6, 2)"
      ]
     },
     "execution_count": 118,
     "metadata": {},
     "output_type": "execute_result"
    }
   ],
   "source": [
    "restaurants_df.shape"
   ]
  },
  {
   "cell_type": "code",
   "execution_count": 119,
   "metadata": {},
   "outputs": [
    {
     "data": {
      "text/html": [
       "<div>\n",
       "<style scoped>\n",
       "    .dataframe tbody tr th:only-of-type {\n",
       "        vertical-align: middle;\n",
       "    }\n",
       "\n",
       "    .dataframe tbody tr th {\n",
       "        vertical-align: top;\n",
       "    }\n",
       "\n",
       "    .dataframe thead th {\n",
       "        text-align: right;\n",
       "    }\n",
       "</style>\n",
       "<table border=\"1\" class=\"dataframe\">\n",
       "  <thead>\n",
       "    <tr style=\"text-align: right;\">\n",
       "      <th></th>\n",
       "      <th>id</th>\n",
       "      <th>name</th>\n",
       "    </tr>\n",
       "  </thead>\n",
       "  <tbody>\n",
       "    <tr>\n",
       "      <th>0</th>\n",
       "      <td>1</td>\n",
       "      <td>Bob's Diner</td>\n",
       "    </tr>\n",
       "    <tr>\n",
       "      <th>1</th>\n",
       "      <td>2</td>\n",
       "      <td>Beachfront Bar</td>\n",
       "    </tr>\n",
       "    <tr>\n",
       "      <th>2</th>\n",
       "      <td>3</td>\n",
       "      <td>Sweet Shack</td>\n",
       "    </tr>\n",
       "    <tr>\n",
       "      <th>3</th>\n",
       "      <td>4</td>\n",
       "      <td>Fou Cher</td>\n",
       "    </tr>\n",
       "    <tr>\n",
       "      <th>4</th>\n",
       "      <td>5</td>\n",
       "      <td>Corner Cafe</td>\n",
       "    </tr>\n",
       "    <tr>\n",
       "      <th>5</th>\n",
       "      <td>6</td>\n",
       "      <td>Surfs Up</td>\n",
       "    </tr>\n",
       "  </tbody>\n",
       "</table>\n",
       "</div>"
      ],
      "text/plain": [
       "   id            name\n",
       "0   1     Bob's Diner\n",
       "1   2  Beachfront Bar\n",
       "2   3     Sweet Shack\n",
       "3   4        Fou Cher\n",
       "4   5     Corner Cafe\n",
       "5   6        Surfs Up"
      ]
     },
     "execution_count": 119,
     "metadata": {},
     "output_type": "execute_result"
    }
   ],
   "source": [
    "restaurants_df"
   ]
  },
  {
   "cell_type": "markdown",
   "metadata": {},
   "source": [
    "#### There are 6 restaurants. Each has a store id."
   ]
  },
  {
   "cell_type": "code",
   "execution_count": 120,
   "metadata": {},
   "outputs": [
    {
     "data": {
      "text/plain": [
       "(109600, 4)"
      ]
     },
     "execution_count": 120,
     "metadata": {},
     "output_type": "execute_result"
    }
   ],
   "source": [
    "sales_df.shape"
   ]
  },
  {
   "cell_type": "code",
   "execution_count": 121,
   "metadata": {},
   "outputs": [
    {
     "data": {
      "text/html": [
       "<div>\n",
       "<style scoped>\n",
       "    .dataframe tbody tr th:only-of-type {\n",
       "        vertical-align: middle;\n",
       "    }\n",
       "\n",
       "    .dataframe tbody tr th {\n",
       "        vertical-align: top;\n",
       "    }\n",
       "\n",
       "    .dataframe thead th {\n",
       "        text-align: right;\n",
       "    }\n",
       "</style>\n",
       "<table border=\"1\" class=\"dataframe\">\n",
       "  <thead>\n",
       "    <tr style=\"text-align: right;\">\n",
       "      <th></th>\n",
       "      <th>date</th>\n",
       "      <th>item_id</th>\n",
       "      <th>price</th>\n",
       "      <th>item_count</th>\n",
       "    </tr>\n",
       "  </thead>\n",
       "  <tbody>\n",
       "    <tr>\n",
       "      <th>0</th>\n",
       "      <td>2019-01-01</td>\n",
       "      <td>3</td>\n",
       "      <td>29.22</td>\n",
       "      <td>2.0</td>\n",
       "    </tr>\n",
       "    <tr>\n",
       "      <th>1</th>\n",
       "      <td>2019-01-01</td>\n",
       "      <td>4</td>\n",
       "      <td>26.42</td>\n",
       "      <td>22.0</td>\n",
       "    </tr>\n",
       "    <tr>\n",
       "      <th>2</th>\n",
       "      <td>2019-01-01</td>\n",
       "      <td>12</td>\n",
       "      <td>4.87</td>\n",
       "      <td>7.0</td>\n",
       "    </tr>\n",
       "    <tr>\n",
       "      <th>3</th>\n",
       "      <td>2019-01-01</td>\n",
       "      <td>13</td>\n",
       "      <td>4.18</td>\n",
       "      <td>12.0</td>\n",
       "    </tr>\n",
       "    <tr>\n",
       "      <th>4</th>\n",
       "      <td>2019-01-01</td>\n",
       "      <td>16</td>\n",
       "      <td>3.21</td>\n",
       "      <td>136.0</td>\n",
       "    </tr>\n",
       "  </tbody>\n",
       "</table>\n",
       "</div>"
      ],
      "text/plain": [
       "         date  item_id  price  item_count\n",
       "0  2019-01-01        3  29.22         2.0\n",
       "1  2019-01-01        4  26.42        22.0\n",
       "2  2019-01-01       12   4.87         7.0\n",
       "3  2019-01-01       13   4.18        12.0\n",
       "4  2019-01-01       16   3.21       136.0"
      ]
     },
     "execution_count": 121,
     "metadata": {},
     "output_type": "execute_result"
    }
   ],
   "source": [
    "sales_df.head()"
   ]
  },
  {
   "cell_type": "code",
   "execution_count": 122,
   "metadata": {},
   "outputs": [
    {
     "data": {
      "text/html": [
       "<div>\n",
       "<style scoped>\n",
       "    .dataframe tbody tr th:only-of-type {\n",
       "        vertical-align: middle;\n",
       "    }\n",
       "\n",
       "    .dataframe tbody tr th {\n",
       "        vertical-align: top;\n",
       "    }\n",
       "\n",
       "    .dataframe thead th {\n",
       "        text-align: right;\n",
       "    }\n",
       "</style>\n",
       "<table border=\"1\" class=\"dataframe\">\n",
       "  <thead>\n",
       "    <tr style=\"text-align: right;\">\n",
       "      <th></th>\n",
       "      <th>item_id</th>\n",
       "      <th>price</th>\n",
       "      <th>item_count</th>\n",
       "    </tr>\n",
       "  </thead>\n",
       "  <tbody>\n",
       "    <tr>\n",
       "      <th>count</th>\n",
       "      <td>109600.000000</td>\n",
       "      <td>109600.000000</td>\n",
       "      <td>109600.000000</td>\n",
       "    </tr>\n",
       "    <tr>\n",
       "      <th>mean</th>\n",
       "      <td>50.500000</td>\n",
       "      <td>11.763700</td>\n",
       "      <td>6.339297</td>\n",
       "    </tr>\n",
       "    <tr>\n",
       "      <th>std</th>\n",
       "      <td>28.866202</td>\n",
       "      <td>8.946225</td>\n",
       "      <td>30.003728</td>\n",
       "    </tr>\n",
       "    <tr>\n",
       "      <th>min</th>\n",
       "      <td>1.000000</td>\n",
       "      <td>1.390000</td>\n",
       "      <td>0.000000</td>\n",
       "    </tr>\n",
       "    <tr>\n",
       "      <th>25%</th>\n",
       "      <td>25.750000</td>\n",
       "      <td>5.280000</td>\n",
       "      <td>0.000000</td>\n",
       "    </tr>\n",
       "    <tr>\n",
       "      <th>50%</th>\n",
       "      <td>50.500000</td>\n",
       "      <td>7.625000</td>\n",
       "      <td>0.000000</td>\n",
       "    </tr>\n",
       "    <tr>\n",
       "      <th>75%</th>\n",
       "      <td>75.250000</td>\n",
       "      <td>18.790000</td>\n",
       "      <td>0.000000</td>\n",
       "    </tr>\n",
       "    <tr>\n",
       "      <th>max</th>\n",
       "      <td>100.000000</td>\n",
       "      <td>53.980000</td>\n",
       "      <td>570.000000</td>\n",
       "    </tr>\n",
       "  </tbody>\n",
       "</table>\n",
       "</div>"
      ],
      "text/plain": [
       "             item_id          price     item_count\n",
       "count  109600.000000  109600.000000  109600.000000\n",
       "mean       50.500000      11.763700       6.339297\n",
       "std        28.866202       8.946225      30.003728\n",
       "min         1.000000       1.390000       0.000000\n",
       "25%        25.750000       5.280000       0.000000\n",
       "50%        50.500000       7.625000       0.000000\n",
       "75%        75.250000      18.790000       0.000000\n",
       "max       100.000000      53.980000     570.000000"
      ]
     },
     "execution_count": 122,
     "metadata": {},
     "output_type": "execute_result"
    }
   ],
   "source": [
    "sales_df.describe()"
   ]
  },
  {
   "cell_type": "markdown",
   "metadata": {},
   "source": [
    "#### There are 109,600 records. The cheapest item purchased is 1.39. The most expensive item purchased is 53.98. There is a record for each item on every day for three years. The majority of these records show a zero item count because each item is accounted for on each day. 75% of the records have an item count of zero, indicating that we might be able to trim the dataset."
   ]
  },
  {
   "cell_type": "code",
   "execution_count": 123,
   "metadata": {},
   "outputs": [
    {
     "data": {
      "text/plain": [
       "(100, 5)"
      ]
     },
     "execution_count": 123,
     "metadata": {},
     "output_type": "execute_result"
    }
   ],
   "source": [
    "items_df.shape"
   ]
  },
  {
   "cell_type": "code",
   "execution_count": 124,
   "metadata": {},
   "outputs": [
    {
     "data": {
      "text/html": [
       "<div>\n",
       "<style scoped>\n",
       "    .dataframe tbody tr th:only-of-type {\n",
       "        vertical-align: middle;\n",
       "    }\n",
       "\n",
       "    .dataframe tbody tr th {\n",
       "        vertical-align: top;\n",
       "    }\n",
       "\n",
       "    .dataframe thead th {\n",
       "        text-align: right;\n",
       "    }\n",
       "</style>\n",
       "<table border=\"1\" class=\"dataframe\">\n",
       "  <thead>\n",
       "    <tr style=\"text-align: right;\">\n",
       "      <th></th>\n",
       "      <th>id</th>\n",
       "      <th>store_id</th>\n",
       "      <th>name</th>\n",
       "      <th>kcal</th>\n",
       "      <th>cost</th>\n",
       "    </tr>\n",
       "  </thead>\n",
       "  <tbody>\n",
       "    <tr>\n",
       "      <th>0</th>\n",
       "      <td>1</td>\n",
       "      <td>4</td>\n",
       "      <td>Chocolate Cake</td>\n",
       "      <td>554</td>\n",
       "      <td>6.71</td>\n",
       "    </tr>\n",
       "    <tr>\n",
       "      <th>1</th>\n",
       "      <td>2</td>\n",
       "      <td>4</td>\n",
       "      <td>Breaded Fish with Vegetables Meal</td>\n",
       "      <td>772</td>\n",
       "      <td>15.09</td>\n",
       "    </tr>\n",
       "    <tr>\n",
       "      <th>2</th>\n",
       "      <td>3</td>\n",
       "      <td>1</td>\n",
       "      <td>Sweet Fruity Cake</td>\n",
       "      <td>931</td>\n",
       "      <td>29.22</td>\n",
       "    </tr>\n",
       "    <tr>\n",
       "      <th>3</th>\n",
       "      <td>4</td>\n",
       "      <td>1</td>\n",
       "      <td>Amazing Steak Dinner with Rolls</td>\n",
       "      <td>763</td>\n",
       "      <td>26.42</td>\n",
       "    </tr>\n",
       "    <tr>\n",
       "      <th>4</th>\n",
       "      <td>5</td>\n",
       "      <td>5</td>\n",
       "      <td>Milk Cake</td>\n",
       "      <td>583</td>\n",
       "      <td>6.07</td>\n",
       "    </tr>\n",
       "  </tbody>\n",
       "</table>\n",
       "</div>"
      ],
      "text/plain": [
       "   id  store_id                               name  kcal   cost\n",
       "0   1         4                     Chocolate Cake   554   6.71\n",
       "1   2         4  Breaded Fish with Vegetables Meal   772  15.09\n",
       "2   3         1                  Sweet Fruity Cake   931  29.22\n",
       "3   4         1    Amazing Steak Dinner with Rolls   763  26.42\n",
       "4   5         5                          Milk Cake   583   6.07"
      ]
     },
     "execution_count": 124,
     "metadata": {},
     "output_type": "execute_result"
    }
   ],
   "source": [
    "items_df.head()"
   ]
  },
  {
   "cell_type": "markdown",
   "metadata": {},
   "source": [
    "#### There are 100 items sold across the six restaurants. We have information on the names of the items, how much each costs and how many calories each has. "
   ]
  },
  {
   "cell_type": "markdown",
   "metadata": {},
   "source": [
    "### Merge the datasets to create a single df with all relevant information."
   ]
  },
  {
   "cell_type": "code",
   "execution_count": 125,
   "metadata": {},
   "outputs": [],
   "source": [
    "# Combine the sales dataframe and items dataframe so that each sales record shows the item name, store id, kcal and cost\n",
    "\n",
    "merged_df_1 = pd.merge(sales_df, items_df, left_on='item_id', right_on='id', how='left')"
   ]
  },
  {
   "cell_type": "code",
   "execution_count": 126,
   "metadata": {},
   "outputs": [
    {
     "data": {
      "text/html": [
       "<div>\n",
       "<style scoped>\n",
       "    .dataframe tbody tr th:only-of-type {\n",
       "        vertical-align: middle;\n",
       "    }\n",
       "\n",
       "    .dataframe tbody tr th {\n",
       "        vertical-align: top;\n",
       "    }\n",
       "\n",
       "    .dataframe thead th {\n",
       "        text-align: right;\n",
       "    }\n",
       "</style>\n",
       "<table border=\"1\" class=\"dataframe\">\n",
       "  <thead>\n",
       "    <tr style=\"text-align: right;\">\n",
       "      <th></th>\n",
       "      <th>date</th>\n",
       "      <th>item_id</th>\n",
       "      <th>price</th>\n",
       "      <th>item_count</th>\n",
       "      <th>id</th>\n",
       "      <th>store_id</th>\n",
       "      <th>name</th>\n",
       "      <th>kcal</th>\n",
       "      <th>cost</th>\n",
       "    </tr>\n",
       "  </thead>\n",
       "  <tbody>\n",
       "    <tr>\n",
       "      <th>0</th>\n",
       "      <td>2019-01-01</td>\n",
       "      <td>3</td>\n",
       "      <td>29.22</td>\n",
       "      <td>2.0</td>\n",
       "      <td>3</td>\n",
       "      <td>1</td>\n",
       "      <td>Sweet Fruity Cake</td>\n",
       "      <td>931</td>\n",
       "      <td>29.22</td>\n",
       "    </tr>\n",
       "    <tr>\n",
       "      <th>1</th>\n",
       "      <td>2019-01-01</td>\n",
       "      <td>4</td>\n",
       "      <td>26.42</td>\n",
       "      <td>22.0</td>\n",
       "      <td>4</td>\n",
       "      <td>1</td>\n",
       "      <td>Amazing Steak Dinner with Rolls</td>\n",
       "      <td>763</td>\n",
       "      <td>26.42</td>\n",
       "    </tr>\n",
       "    <tr>\n",
       "      <th>2</th>\n",
       "      <td>2019-01-01</td>\n",
       "      <td>12</td>\n",
       "      <td>4.87</td>\n",
       "      <td>7.0</td>\n",
       "      <td>12</td>\n",
       "      <td>1</td>\n",
       "      <td>Fantastic Sweet Cola</td>\n",
       "      <td>478</td>\n",
       "      <td>4.87</td>\n",
       "    </tr>\n",
       "    <tr>\n",
       "      <th>3</th>\n",
       "      <td>2019-01-01</td>\n",
       "      <td>13</td>\n",
       "      <td>4.18</td>\n",
       "      <td>12.0</td>\n",
       "      <td>13</td>\n",
       "      <td>1</td>\n",
       "      <td>Sweet Frozen Soft Drink</td>\n",
       "      <td>490</td>\n",
       "      <td>4.18</td>\n",
       "    </tr>\n",
       "    <tr>\n",
       "      <th>4</th>\n",
       "      <td>2019-01-01</td>\n",
       "      <td>16</td>\n",
       "      <td>3.21</td>\n",
       "      <td>136.0</td>\n",
       "      <td>16</td>\n",
       "      <td>1</td>\n",
       "      <td>Frozen Milky Smoothy</td>\n",
       "      <td>284</td>\n",
       "      <td>3.21</td>\n",
       "    </tr>\n",
       "  </tbody>\n",
       "</table>\n",
       "</div>"
      ],
      "text/plain": [
       "         date  item_id  price  item_count  id  store_id  \\\n",
       "0  2019-01-01        3  29.22         2.0   3         1   \n",
       "1  2019-01-01        4  26.42        22.0   4         1   \n",
       "2  2019-01-01       12   4.87         7.0  12         1   \n",
       "3  2019-01-01       13   4.18        12.0  13         1   \n",
       "4  2019-01-01       16   3.21       136.0  16         1   \n",
       "\n",
       "                              name  kcal   cost  \n",
       "0                Sweet Fruity Cake   931  29.22  \n",
       "1  Amazing Steak Dinner with Rolls   763  26.42  \n",
       "2             Fantastic Sweet Cola   478   4.87  \n",
       "3          Sweet Frozen Soft Drink   490   4.18  \n",
       "4             Frozen Milky Smoothy   284   3.21  "
      ]
     },
     "execution_count": 126,
     "metadata": {},
     "output_type": "execute_result"
    }
   ],
   "source": [
    "merged_df_1.head()"
   ]
  },
  {
   "cell_type": "code",
   "execution_count": 127,
   "metadata": {},
   "outputs": [],
   "source": [
    "# Add restaurant name to each sales record\n",
    "\n",
    "merged_df_final = pd.merge(merged_df_1, restaurants_df, left_on='store_id', right_on='id') "
   ]
  },
  {
   "cell_type": "code",
   "execution_count": 128,
   "metadata": {},
   "outputs": [
    {
     "data": {
      "text/html": [
       "<div>\n",
       "<style scoped>\n",
       "    .dataframe tbody tr th:only-of-type {\n",
       "        vertical-align: middle;\n",
       "    }\n",
       "\n",
       "    .dataframe tbody tr th {\n",
       "        vertical-align: top;\n",
       "    }\n",
       "\n",
       "    .dataframe thead th {\n",
       "        text-align: right;\n",
       "    }\n",
       "</style>\n",
       "<table border=\"1\" class=\"dataframe\">\n",
       "  <thead>\n",
       "    <tr style=\"text-align: right;\">\n",
       "      <th></th>\n",
       "      <th>date</th>\n",
       "      <th>item_id</th>\n",
       "      <th>price</th>\n",
       "      <th>item_count</th>\n",
       "      <th>id_x</th>\n",
       "      <th>store_id</th>\n",
       "      <th>name_x</th>\n",
       "      <th>kcal</th>\n",
       "      <th>cost</th>\n",
       "      <th>id_y</th>\n",
       "      <th>name_y</th>\n",
       "    </tr>\n",
       "  </thead>\n",
       "  <tbody>\n",
       "    <tr>\n",
       "      <th>0</th>\n",
       "      <td>2019-01-01</td>\n",
       "      <td>3</td>\n",
       "      <td>29.22</td>\n",
       "      <td>2.0</td>\n",
       "      <td>3</td>\n",
       "      <td>1</td>\n",
       "      <td>Sweet Fruity Cake</td>\n",
       "      <td>931</td>\n",
       "      <td>29.22</td>\n",
       "      <td>1</td>\n",
       "      <td>Bob's Diner</td>\n",
       "    </tr>\n",
       "    <tr>\n",
       "      <th>1</th>\n",
       "      <td>2019-01-01</td>\n",
       "      <td>4</td>\n",
       "      <td>26.42</td>\n",
       "      <td>22.0</td>\n",
       "      <td>4</td>\n",
       "      <td>1</td>\n",
       "      <td>Amazing Steak Dinner with Rolls</td>\n",
       "      <td>763</td>\n",
       "      <td>26.42</td>\n",
       "      <td>1</td>\n",
       "      <td>Bob's Diner</td>\n",
       "    </tr>\n",
       "    <tr>\n",
       "      <th>2</th>\n",
       "      <td>2019-01-01</td>\n",
       "      <td>12</td>\n",
       "      <td>4.87</td>\n",
       "      <td>7.0</td>\n",
       "      <td>12</td>\n",
       "      <td>1</td>\n",
       "      <td>Fantastic Sweet Cola</td>\n",
       "      <td>478</td>\n",
       "      <td>4.87</td>\n",
       "      <td>1</td>\n",
       "      <td>Bob's Diner</td>\n",
       "    </tr>\n",
       "    <tr>\n",
       "      <th>3</th>\n",
       "      <td>2019-01-01</td>\n",
       "      <td>13</td>\n",
       "      <td>4.18</td>\n",
       "      <td>12.0</td>\n",
       "      <td>13</td>\n",
       "      <td>1</td>\n",
       "      <td>Sweet Frozen Soft Drink</td>\n",
       "      <td>490</td>\n",
       "      <td>4.18</td>\n",
       "      <td>1</td>\n",
       "      <td>Bob's Diner</td>\n",
       "    </tr>\n",
       "    <tr>\n",
       "      <th>4</th>\n",
       "      <td>2019-01-01</td>\n",
       "      <td>16</td>\n",
       "      <td>3.21</td>\n",
       "      <td>136.0</td>\n",
       "      <td>16</td>\n",
       "      <td>1</td>\n",
       "      <td>Frozen Milky Smoothy</td>\n",
       "      <td>284</td>\n",
       "      <td>3.21</td>\n",
       "      <td>1</td>\n",
       "      <td>Bob's Diner</td>\n",
       "    </tr>\n",
       "  </tbody>\n",
       "</table>\n",
       "</div>"
      ],
      "text/plain": [
       "         date  item_id  price  item_count  id_x  store_id  \\\n",
       "0  2019-01-01        3  29.22         2.0     3         1   \n",
       "1  2019-01-01        4  26.42        22.0     4         1   \n",
       "2  2019-01-01       12   4.87         7.0    12         1   \n",
       "3  2019-01-01       13   4.18        12.0    13         1   \n",
       "4  2019-01-01       16   3.21       136.0    16         1   \n",
       "\n",
       "                            name_x  kcal   cost  id_y       name_y  \n",
       "0                Sweet Fruity Cake   931  29.22     1  Bob's Diner  \n",
       "1  Amazing Steak Dinner with Rolls   763  26.42     1  Bob's Diner  \n",
       "2             Fantastic Sweet Cola   478   4.87     1  Bob's Diner  \n",
       "3          Sweet Frozen Soft Drink   490   4.18     1  Bob's Diner  \n",
       "4             Frozen Milky Smoothy   284   3.21     1  Bob's Diner  "
      ]
     },
     "execution_count": 128,
     "metadata": {},
     "output_type": "execute_result"
    }
   ],
   "source": [
    "merged_df_final.head()"
   ]
  },
  {
   "cell_type": "code",
   "execution_count": 129,
   "metadata": {},
   "outputs": [],
   "source": [
    "# Remove duplicated columns\n",
    "\n",
    "features_to_remove = ['id_x', 'item_id', 'cost','id_y']\n",
    "df_final = merged_df_final.drop(features_to_remove, axis=1)"
   ]
  },
  {
   "cell_type": "code",
   "execution_count": 130,
   "metadata": {},
   "outputs": [],
   "source": [
    "#Rename name_x and name_y columns to be clear. Rename price column to be clear that is the price of an individual item, not the total price\n",
    "\n",
    "df_final.rename(columns={'name_x': 'item_name', 'name_y': 'restaurant_name', 'price': 'price_per_unit'}, inplace=True)\n"
   ]
  },
  {
   "cell_type": "code",
   "execution_count": 131,
   "metadata": {},
   "outputs": [
    {
     "data": {
      "text/html": [
       "<div>\n",
       "<style scoped>\n",
       "    .dataframe tbody tr th:only-of-type {\n",
       "        vertical-align: middle;\n",
       "    }\n",
       "\n",
       "    .dataframe tbody tr th {\n",
       "        vertical-align: top;\n",
       "    }\n",
       "\n",
       "    .dataframe thead th {\n",
       "        text-align: right;\n",
       "    }\n",
       "</style>\n",
       "<table border=\"1\" class=\"dataframe\">\n",
       "  <thead>\n",
       "    <tr style=\"text-align: right;\">\n",
       "      <th></th>\n",
       "      <th>date</th>\n",
       "      <th>price_per_unit</th>\n",
       "      <th>item_count</th>\n",
       "      <th>store_id</th>\n",
       "      <th>item_name</th>\n",
       "      <th>kcal</th>\n",
       "      <th>restaurant_name</th>\n",
       "    </tr>\n",
       "  </thead>\n",
       "  <tbody>\n",
       "    <tr>\n",
       "      <th>0</th>\n",
       "      <td>2019-01-01</td>\n",
       "      <td>29.22</td>\n",
       "      <td>2.0</td>\n",
       "      <td>1</td>\n",
       "      <td>Sweet Fruity Cake</td>\n",
       "      <td>931</td>\n",
       "      <td>Bob's Diner</td>\n",
       "    </tr>\n",
       "    <tr>\n",
       "      <th>1</th>\n",
       "      <td>2019-01-01</td>\n",
       "      <td>26.42</td>\n",
       "      <td>22.0</td>\n",
       "      <td>1</td>\n",
       "      <td>Amazing Steak Dinner with Rolls</td>\n",
       "      <td>763</td>\n",
       "      <td>Bob's Diner</td>\n",
       "    </tr>\n",
       "    <tr>\n",
       "      <th>2</th>\n",
       "      <td>2019-01-01</td>\n",
       "      <td>4.87</td>\n",
       "      <td>7.0</td>\n",
       "      <td>1</td>\n",
       "      <td>Fantastic Sweet Cola</td>\n",
       "      <td>478</td>\n",
       "      <td>Bob's Diner</td>\n",
       "    </tr>\n",
       "    <tr>\n",
       "      <th>3</th>\n",
       "      <td>2019-01-01</td>\n",
       "      <td>4.18</td>\n",
       "      <td>12.0</td>\n",
       "      <td>1</td>\n",
       "      <td>Sweet Frozen Soft Drink</td>\n",
       "      <td>490</td>\n",
       "      <td>Bob's Diner</td>\n",
       "    </tr>\n",
       "    <tr>\n",
       "      <th>4</th>\n",
       "      <td>2019-01-01</td>\n",
       "      <td>3.21</td>\n",
       "      <td>136.0</td>\n",
       "      <td>1</td>\n",
       "      <td>Frozen Milky Smoothy</td>\n",
       "      <td>284</td>\n",
       "      <td>Bob's Diner</td>\n",
       "    </tr>\n",
       "  </tbody>\n",
       "</table>\n",
       "</div>"
      ],
      "text/plain": [
       "         date  price_per_unit  item_count  store_id  \\\n",
       "0  2019-01-01           29.22         2.0         1   \n",
       "1  2019-01-01           26.42        22.0         1   \n",
       "2  2019-01-01            4.87         7.0         1   \n",
       "3  2019-01-01            4.18        12.0         1   \n",
       "4  2019-01-01            3.21       136.0         1   \n",
       "\n",
       "                         item_name  kcal restaurant_name  \n",
       "0                Sweet Fruity Cake   931     Bob's Diner  \n",
       "1  Amazing Steak Dinner with Rolls   763     Bob's Diner  \n",
       "2             Fantastic Sweet Cola   478     Bob's Diner  \n",
       "3          Sweet Frozen Soft Drink   490     Bob's Diner  \n",
       "4             Frozen Milky Smoothy   284     Bob's Diner  "
      ]
     },
     "execution_count": 131,
     "metadata": {},
     "output_type": "execute_result"
    }
   ],
   "source": [
    "df_final.head()"
   ]
  },
  {
   "cell_type": "code",
   "execution_count": 132,
   "metadata": {},
   "outputs": [
    {
     "data": {
      "text/plain": [
       "date               0\n",
       "price_per_unit     0\n",
       "item_count         0\n",
       "store_id           0\n",
       "item_name          0\n",
       "kcal               0\n",
       "restaurant_name    0\n",
       "dtype: int64"
      ]
     },
     "execution_count": 132,
     "metadata": {},
     "output_type": "execute_result"
    }
   ],
   "source": [
    "# Look for missing values\n",
    "\n",
    "df_final.isna().sum()"
   ]
  },
  {
   "cell_type": "code",
   "execution_count": 133,
   "metadata": {},
   "outputs": [
    {
     "data": {
      "text/plain": [
       "0"
      ]
     },
     "execution_count": 133,
     "metadata": {},
     "output_type": "execute_result"
    }
   ],
   "source": [
    "# Look for duplicates\n",
    "\n",
    "df_final.duplicated().sum()"
   ]
  },
  {
   "cell_type": "markdown",
   "metadata": {},
   "source": [
    "### Feature Engineering"
   ]
  },
  {
   "cell_type": "code",
   "execution_count": 134,
   "metadata": {},
   "outputs": [],
   "source": [
    "#Convert date format to datetime format\n",
    "\n",
    "df_final['date'] = pd.to_datetime(df_final['date'])\n",
    "\n",
    "#Extract Week, Month, Quarter and Year\n",
    "\n",
    "df_final['week'] = df_final['date'].dt.isocalendar().week\n",
    "df_final['month'] = df_final['date'].dt.month\n",
    "df_final['quarter'] = df_final['date'].dt.quarter\n",
    "df_final['year'] = df_final['date'].dt.year\n",
    "\n",
    "# Extract the day of the week; Monday=0, Sunday=6\n",
    "df_final['day_of_week'] = df_final['date'].dt.dayofweek\n",
    "\n",
    "# Map the day indices to day names for clearer visualization\n",
    "day_names = {0: 'Monday', 1: 'Tuesday', 2: 'Wednesday', 3: 'Thursday', 4: 'Friday', 5: 'Saturday', 6: 'Sunday'}\n",
    "df_final['day_of_week'] = df_final['day_of_week'].map(day_names)"
   ]
  },
  {
   "cell_type": "code",
   "execution_count": 135,
   "metadata": {},
   "outputs": [],
   "source": [
    "# Create columns with total income from each sale\n",
    "\n",
    "df_final['total_income_from_each_item'] = df_final['item_count'] * df_final['price_per_unit']"
   ]
  },
  {
   "cell_type": "code",
   "execution_count": 136,
   "metadata": {},
   "outputs": [
    {
     "data": {
      "text/html": [
       "<div>\n",
       "<style scoped>\n",
       "    .dataframe tbody tr th:only-of-type {\n",
       "        vertical-align: middle;\n",
       "    }\n",
       "\n",
       "    .dataframe tbody tr th {\n",
       "        vertical-align: top;\n",
       "    }\n",
       "\n",
       "    .dataframe thead th {\n",
       "        text-align: right;\n",
       "    }\n",
       "</style>\n",
       "<table border=\"1\" class=\"dataframe\">\n",
       "  <thead>\n",
       "    <tr style=\"text-align: right;\">\n",
       "      <th></th>\n",
       "      <th>date</th>\n",
       "      <th>price_per_unit</th>\n",
       "      <th>item_count</th>\n",
       "      <th>store_id</th>\n",
       "      <th>item_name</th>\n",
       "      <th>kcal</th>\n",
       "      <th>restaurant_name</th>\n",
       "      <th>week</th>\n",
       "      <th>month</th>\n",
       "      <th>quarter</th>\n",
       "      <th>year</th>\n",
       "      <th>day_of_week</th>\n",
       "      <th>total_income_from_each_item</th>\n",
       "    </tr>\n",
       "  </thead>\n",
       "  <tbody>\n",
       "    <tr>\n",
       "      <th>0</th>\n",
       "      <td>2019-01-01</td>\n",
       "      <td>29.22</td>\n",
       "      <td>2.0</td>\n",
       "      <td>1</td>\n",
       "      <td>Sweet Fruity Cake</td>\n",
       "      <td>931</td>\n",
       "      <td>Bob's Diner</td>\n",
       "      <td>1</td>\n",
       "      <td>1</td>\n",
       "      <td>1</td>\n",
       "      <td>2019</td>\n",
       "      <td>Tuesday</td>\n",
       "      <td>58.44</td>\n",
       "    </tr>\n",
       "    <tr>\n",
       "      <th>1</th>\n",
       "      <td>2019-01-01</td>\n",
       "      <td>26.42</td>\n",
       "      <td>22.0</td>\n",
       "      <td>1</td>\n",
       "      <td>Amazing Steak Dinner with Rolls</td>\n",
       "      <td>763</td>\n",
       "      <td>Bob's Diner</td>\n",
       "      <td>1</td>\n",
       "      <td>1</td>\n",
       "      <td>1</td>\n",
       "      <td>2019</td>\n",
       "      <td>Tuesday</td>\n",
       "      <td>581.24</td>\n",
       "    </tr>\n",
       "    <tr>\n",
       "      <th>2</th>\n",
       "      <td>2019-01-01</td>\n",
       "      <td>4.87</td>\n",
       "      <td>7.0</td>\n",
       "      <td>1</td>\n",
       "      <td>Fantastic Sweet Cola</td>\n",
       "      <td>478</td>\n",
       "      <td>Bob's Diner</td>\n",
       "      <td>1</td>\n",
       "      <td>1</td>\n",
       "      <td>1</td>\n",
       "      <td>2019</td>\n",
       "      <td>Tuesday</td>\n",
       "      <td>34.09</td>\n",
       "    </tr>\n",
       "    <tr>\n",
       "      <th>3</th>\n",
       "      <td>2019-01-01</td>\n",
       "      <td>4.18</td>\n",
       "      <td>12.0</td>\n",
       "      <td>1</td>\n",
       "      <td>Sweet Frozen Soft Drink</td>\n",
       "      <td>490</td>\n",
       "      <td>Bob's Diner</td>\n",
       "      <td>1</td>\n",
       "      <td>1</td>\n",
       "      <td>1</td>\n",
       "      <td>2019</td>\n",
       "      <td>Tuesday</td>\n",
       "      <td>50.16</td>\n",
       "    </tr>\n",
       "    <tr>\n",
       "      <th>4</th>\n",
       "      <td>2019-01-01</td>\n",
       "      <td>3.21</td>\n",
       "      <td>136.0</td>\n",
       "      <td>1</td>\n",
       "      <td>Frozen Milky Smoothy</td>\n",
       "      <td>284</td>\n",
       "      <td>Bob's Diner</td>\n",
       "      <td>1</td>\n",
       "      <td>1</td>\n",
       "      <td>1</td>\n",
       "      <td>2019</td>\n",
       "      <td>Tuesday</td>\n",
       "      <td>436.56</td>\n",
       "    </tr>\n",
       "  </tbody>\n",
       "</table>\n",
       "</div>"
      ],
      "text/plain": [
       "        date  price_per_unit  item_count  store_id  \\\n",
       "0 2019-01-01           29.22         2.0         1   \n",
       "1 2019-01-01           26.42        22.0         1   \n",
       "2 2019-01-01            4.87         7.0         1   \n",
       "3 2019-01-01            4.18        12.0         1   \n",
       "4 2019-01-01            3.21       136.0         1   \n",
       "\n",
       "                         item_name  kcal restaurant_name  week  month  \\\n",
       "0                Sweet Fruity Cake   931     Bob's Diner     1      1   \n",
       "1  Amazing Steak Dinner with Rolls   763     Bob's Diner     1      1   \n",
       "2             Fantastic Sweet Cola   478     Bob's Diner     1      1   \n",
       "3          Sweet Frozen Soft Drink   490     Bob's Diner     1      1   \n",
       "4             Frozen Milky Smoothy   284     Bob's Diner     1      1   \n",
       "\n",
       "   quarter  year day_of_week  total_income_from_each_item  \n",
       "0        1  2019     Tuesday                        58.44  \n",
       "1        1  2019     Tuesday                       581.24  \n",
       "2        1  2019     Tuesday                        34.09  \n",
       "3        1  2019     Tuesday                        50.16  \n",
       "4        1  2019     Tuesday                       436.56  "
      ]
     },
     "execution_count": 136,
     "metadata": {},
     "output_type": "execute_result"
    }
   ],
   "source": [
    "df_final.head()"
   ]
  },
  {
   "cell_type": "markdown",
   "metadata": {},
   "source": [
    "#### For now, I will shorten the dataset to only show actual sales (by removing the records that show an item_count of zero)"
   ]
  },
  {
   "cell_type": "code",
   "execution_count": 137,
   "metadata": {},
   "outputs": [],
   "source": [
    "df_actual_sales = df_final[df_final['item_count'] != 0]"
   ]
  },
  {
   "cell_type": "code",
   "execution_count": 138,
   "metadata": {},
   "outputs": [
    {
     "data": {
      "text/plain": [
       "(23484, 13)"
      ]
     },
     "execution_count": 138,
     "metadata": {},
     "output_type": "execute_result"
    }
   ],
   "source": [
    "df_actual_sales.shape"
   ]
  },
  {
   "cell_type": "code",
   "execution_count": 139,
   "metadata": {},
   "outputs": [
    {
     "data": {
      "text/plain": [
       "array([[<Axes: title={'center': 'date'}>,\n",
       "        <Axes: title={'center': 'price_per_unit'}>,\n",
       "        <Axes: title={'center': 'item_count'}>],\n",
       "       [<Axes: title={'center': 'store_id'}>,\n",
       "        <Axes: title={'center': 'kcal'}>,\n",
       "        <Axes: title={'center': 'week'}>],\n",
       "       [<Axes: title={'center': 'month'}>,\n",
       "        <Axes: title={'center': 'quarter'}>,\n",
       "        <Axes: title={'center': 'year'}>],\n",
       "       [<Axes: title={'center': 'total_income_from_each_item'}>,\n",
       "        <Axes: >, <Axes: >]], dtype=object)"
      ]
     },
     "execution_count": 139,
     "metadata": {},
     "output_type": "execute_result"
    },
    {
     "data": {
      "image/png": "[encoded data removed]",
      "text/plain": [
       "<Figure size 1500x2000 with 12 Axes>"
      ]
     },
     "metadata": {},
     "output_type": "display_data"
    }
   ],
   "source": [
    "df_actual_sales.hist(figsize=(15,20))"
   ]
  },
  {
   "cell_type": "markdown",
   "metadata": {},
   "source": [
    "#### These histograms show: (1) Out of 23,484 records, over 17,500 were from Bob's Diner. This is an overwhelming majority.(2) The end of the year and beginning of the year show increased items sold. (3) Sales are roughly consistent when averaged across quarters and across years."
   ]
  },
  {
   "cell_type": "code",
   "execution_count": 140,
   "metadata": {},
   "outputs": [],
   "source": [
    "# Find the total count of each item sold over 3 years across all 6 restaurants\n",
    "\n",
    "total_count_per_item = df_final.groupby(['restaurant_name', 'item_name'])['item_count'].sum()"
   ]
  },
  {
   "cell_type": "code",
   "execution_count": 141,
   "metadata": {},
   "outputs": [
    {
     "data": {
      "text/plain": [
       "restaurant_name  item_name                      \n",
       "Beachfront Bar   Awesome Vodka Cocktail               12.0\n",
       "                 Fantastic Milky Smoothy            1147.0\n",
       "                 Original Crazy Cocktail             106.0\n",
       "                 Original Gin Cocktail                21.0\n",
       "                 Original Sweet Milky Soft Drink       0.0\n",
       "                                                     ...  \n",
       "Sweet Shack      Fantastic Cake                       14.0\n",
       "                 Fantastic Milky Smoothy              18.0\n",
       "                 Milky vegi Smoothy                    6.0\n",
       "                 Original Milky Cake                   0.0\n",
       "                 Original Sweet Milky Soft Drink       1.0\n",
       "Name: item_count, Length: 100, dtype: float64"
      ]
     },
     "execution_count": 141,
     "metadata": {},
     "output_type": "execute_result"
    }
   ],
   "source": [
    "total_count_per_item"
   ]
  },
  {
   "cell_type": "markdown",
   "metadata": {},
   "source": [
    "#### Figure out which items are not selling at all (total count = 0)"
   ]
  },
  {
   "cell_type": "code",
   "execution_count": 142,
   "metadata": {},
   "outputs": [
    {
     "name": "stdout",
     "output_type": "stream",
     "text": [
      "Items with zero count\n",
      "restaurant_name  item_name                                 \n",
      "Beachfront Bar   Original Sweet Milky Soft Drink               0.0\n",
      "Corner Cafe      Awesome Fruity Lamb with Vegetables Dinner    0.0\n",
      "                 Milky Cake                                    0.0\n",
      "                 Original Fruity Carrot Cake                   0.0\n",
      "Fou Cher         Fantastic Fruity Salmon with Bread meal       0.0\n",
      "                 Original Milky Cake                           0.0\n",
      "Sweet Shack      Blue Ribbon Frozen Milky Cake                 0.0\n",
      "                 Original Milky Cake                           0.0\n",
      "Name: item_count, dtype: float64\n"
     ]
    }
   ],
   "source": [
    "# Filter to find items with a total count of zero\n",
    "zero_count_items = total_count_per_item[total_count_per_item == 0]\n",
    "\n",
    "# Display the items with zero count\n",
    "print(\"Items with zero count\")\n",
    "print(zero_count_items)"
   ]
  },
  {
   "cell_type": "code",
   "execution_count": 143,
   "metadata": {},
   "outputs": [
    {
     "data": {
      "text/plain": [
       "count       100.000000\n",
       "mean       6947.870000\n",
       "std       27540.131787\n",
       "min           0.000000\n",
       "25%          10.000000\n",
       "50%          52.000000\n",
       "75%         273.500000\n",
       "max      236337.000000\n",
       "Name: item_count, dtype: float64"
      ]
     },
     "execution_count": 143,
     "metadata": {},
     "output_type": "execute_result"
    }
   ],
   "source": [
    "total_count_per_item.describe()"
   ]
  },
  {
   "cell_type": "code",
   "execution_count": 144,
   "metadata": {},
   "outputs": [
    {
     "data": {
      "text/plain": [
       "restaurant_name  item_name                      \n",
       "Beachfront Bar   Awesome Vodka Cocktail               12.0\n",
       "                 Fantastic Milky Smoothy            1147.0\n",
       "                 Original Crazy Cocktail             106.0\n",
       "                 Original Gin Cocktail                21.0\n",
       "                 Sweet Vegi Soft Drink                19.0\n",
       "                                                     ...  \n",
       "Sweet Shack      Blue Ribbon Milky Cake                5.0\n",
       "                 Fantastic Cake                       14.0\n",
       "                 Fantastic Milky Smoothy              18.0\n",
       "                 Milky vegi Smoothy                    6.0\n",
       "                 Original Sweet Milky Soft Drink       1.0\n",
       "Name: item_count, Length: 92, dtype: float64"
      ]
     },
     "execution_count": 144,
     "metadata": {},
     "output_type": "execute_result"
    }
   ],
   "source": [
    "items_that_sell = total_count_per_item[total_count_per_item != 0]\n",
    "\n",
    "items_that_sell"
   ]
  },
  {
   "cell_type": "markdown",
   "metadata": {},
   "source": [
    "#### This confirms that 8 items haven't been sold at all from Jan 2019-Dec 2021"
   ]
  },
  {
   "cell_type": "markdown",
   "metadata": {},
   "source": [
    "### Examine date-wise sales"
   ]
  },
  {
   "cell_type": "code",
   "execution_count": 145,
   "metadata": {},
   "outputs": [],
   "source": [
    "# Examine the difference in sales between quarters \n",
    "sales_per_quarter = df_final.groupby(['restaurant_name', 'quarter'])['total_income_from_each_item'].sum()"
   ]
  },
  {
   "cell_type": "markdown",
   "metadata": {},
   "source": [
    "#"
   ]
  },
  {
   "cell_type": "code",
   "execution_count": 146,
   "metadata": {},
   "outputs": [
    {
     "data": {
      "text/plain": [
       "restaurant_name  quarter\n",
       "Beachfront Bar   1              973.88\n",
       "                 2              943.28\n",
       "                 3              889.16\n",
       "                 4              989.88\n",
       "Bob's Diner      1          1252474.58\n",
       "                 2          1911399.12\n",
       "                 3          1886218.17\n",
       "                 4          1287183.82\n",
       "Corner Cafe      1             3632.98\n",
       "                 2             4310.61\n",
       "                 3             4288.40\n",
       "                 4             4319.44\n",
       "Fou Cher         1             6958.16\n",
       "                 2             7337.96\n",
       "                 3             5843.43\n",
       "                 4             7745.82\n",
       "Surfs Up         1             3832.77\n",
       "                 2             3993.62\n",
       "                 3             4112.29\n",
       "                 4             3712.81\n",
       "Sweet Shack      1              651.92\n",
       "                 2              653.03\n",
       "                 3              639.70\n",
       "                 4              633.62\n",
       "Name: total_income_from_each_item, dtype: float64"
      ]
     },
     "execution_count": 146,
     "metadata": {},
     "output_type": "execute_result"
    }
   ],
   "source": [
    "sales_per_quarter"
   ]
  },
  {
   "cell_type": "code",
   "execution_count": 147,
   "metadata": {},
   "outputs": [
    {
     "data": {
      "text/plain": [
       "restaurant_name  day_of_week\n",
       "Beachfront Bar   Friday             508.79\n",
       "                 Monday             544.78\n",
       "                 Saturday           538.93\n",
       "                 Sunday             523.11\n",
       "                 Thursday           518.58\n",
       "                 Tuesday            548.72\n",
       "                 Wednesday          613.29\n",
       "Bob's Diner      Friday         1247393.16\n",
       "                 Monday          635165.98\n",
       "                 Saturday       1241421.51\n",
       "                 Sunday          621069.50\n",
       "                 Thursday       1063813.76\n",
       "                 Tuesday         725443.80\n",
       "                 Wednesday       802967.98\n",
       "Corner Cafe      Friday            2460.83\n",
       "                 Monday            2395.01\n",
       "                 Saturday          2317.59\n",
       "                 Sunday            2426.59\n",
       "                 Thursday          2343.02\n",
       "                 Tuesday           2487.38\n",
       "                 Wednesday         2121.01\n",
       "Fou Cher         Friday            4227.35\n",
       "                 Monday            3927.47\n",
       "                 Saturday          3753.69\n",
       "                 Sunday            3619.89\n",
       "                 Thursday          4272.16\n",
       "                 Tuesday           3742.68\n",
       "                 Wednesday         4342.13\n",
       "Surfs Up         Friday            2399.53\n",
       "                 Monday            2402.87\n",
       "                 Saturday          2142.37\n",
       "                 Sunday            2269.13\n",
       "                 Thursday          2233.90\n",
       "                 Tuesday           1970.81\n",
       "                 Wednesday         2232.88\n",
       "Sweet Shack      Friday             348.50\n",
       "                 Monday             363.86\n",
       "                 Saturday           400.23\n",
       "                 Sunday             371.49\n",
       "                 Thursday           353.10\n",
       "                 Tuesday            405.07\n",
       "                 Wednesday          336.02\n",
       "Name: total_income_from_each_item, dtype: float64"
      ]
     },
     "execution_count": 147,
     "metadata": {},
     "output_type": "execute_result"
    }
   ],
   "source": [
    "# Examine sales on different days of the week\n",
    "\n",
    "sales_per_day_of_week = df_final.groupby(['restaurant_name', 'day_of_week'])['total_income_from_each_item'].sum()\n",
    "\n",
    "sales_per_day_of_week"
   ]
  },
  {
   "cell_type": "markdown",
   "metadata": {},
   "source": [
    " ## Machine Learning"
   ]
  },
  {
   "cell_type": "markdown",
   "metadata": {},
   "source": [
    "#### Split the dataset into testing and training data. Use the data from the last six months as the testing data. Extract the split date"
   ]
  },
  {
   "cell_type": "markdown",
   "metadata": {},
   "source": [
    "#### Drop features that are only contributing noise\n",
    "\n",
    "##### I am going to drop 'store_id' since it has no value as a numerical number. I will drop item_name as it is not numerical and using getdummies on it may introduce noise. I am going to use getdummies on restaurant name and day of week because this is important categorical information."
   ]
  },
  {
   "cell_type": "code",
   "execution_count": 148,
   "metadata": {},
   "outputs": [],
   "source": [
    "#Convert categorical columns into numerical data\n",
    "\n",
    "df_final_numerical = pd.get_dummies(df_final, columns= ['restaurant_name', 'day_of_week'], dtype=int)"
   ]
  },
  {
   "cell_type": "code",
   "execution_count": 149,
   "metadata": {},
   "outputs": [],
   "source": [
    "features_to_drop = ['item_name', 'store_id']\n",
    "\n",
    "df_for_modeling = df_final_numerical.drop(features_to_drop, axis=1)"
   ]
  },
  {
   "cell_type": "code",
   "execution_count": 150,
   "metadata": {},
   "outputs": [],
   "source": [
    "# Define the X and the y\n",
    "X = df_for_modeling.drop('item_count', axis=1)\n",
    "y = df_for_modeling['item_count']"
   ]
  },
  {
   "cell_type": "code",
   "execution_count": 151,
   "metadata": {},
   "outputs": [],
   "source": [
    "# Identify the split point: 6 months before the last date in the dataset\n",
    "split_date = df_for_modeling['date'].max() - pd.DateOffset(months=6)\n",
    "\n",
    "# Split the data\n",
    "train_data = df_for_modeling[df_for_modeling['date'] < split_date]\n",
    "test_data = df_for_modeling[df_for_modeling['date'] >= split_date]"
   ]
  },
  {
   "cell_type": "code",
   "execution_count": 152,
   "metadata": {},
   "outputs": [],
   "source": [
    "# Prepare the feature matrix (X) and target vector (y)\n",
    "X_train = train_data.drop(['item_count', 'date'], axis=1)\n",
    "y_train = train_data['item_count']\n",
    "X_test = test_data.drop(['item_count', 'date'], axis=1)\n",
    "y_test = test_data['item_count']"
   ]
  },
  {
   "cell_type": "code",
   "execution_count": 153,
   "metadata": {},
   "outputs": [],
   "source": [
    "# Normalize the data\n",
    "\n",
    "from sklearn.preprocessing import StandardScaler\n",
    "\n",
    "# Initialize the scaler\n",
    "scaler = StandardScaler()\n",
    "\n",
    "# Fit on training data\n",
    "scaler.fit(X_train)  # Calculate mean and standard deviation only from the training data\n",
    "\n",
    "# Transform training data\n",
    "X_train_scaled = scaler.transform(X_train)\n",
    "\n",
    "# Transform testing data\n",
    "X_test_scaled = scaler.transform(X_test)\n"
   ]
  },
  {
   "cell_type": "code",
   "execution_count": 154,
   "metadata": {},
   "outputs": [],
   "source": [
    "from sklearn.linear_model import LinearRegression\n",
    "from sklearn.metrics import mean_squared_error, r2_score"
   ]
  },
  {
   "cell_type": "code",
   "execution_count": 155,
   "metadata": {},
   "outputs": [
    {
     "name": "stdout",
     "output_type": "stream",
     "text": [
      "Root Mean Squared Error for linear regression model: 21.442951835568017\n"
     ]
    }
   ],
   "source": [
    "# Create a linear regression model instance\n",
    "lin_reg_model = LinearRegression()\n",
    "\n",
    "# Train the model using the training sets\n",
    "lin_reg_model.fit(X_train_scaled, y_train)\n",
    "\n",
    "# Predicting the target values of the test set\n",
    "y_pred = lin_reg_model.predict(X_test_scaled)\n",
    "\n",
    "mse = mean_squared_error(y_test, y_pred)\n",
    "rmse = np.sqrt(mse)\n",
    "\n",
    "print(f\"Root Mean Squared Error for linear regression model: {rmse}\")\n"
   ]
  },
  {
   "cell_type": "markdown",
   "metadata": {},
   "source": [
    "#### This is a bad model based on RMSE\n",
    "\n",
    "#### Random Forest Model"
   ]
  },
  {
   "cell_type": "code",
   "execution_count": 156,
   "metadata": {},
   "outputs": [],
   "source": [
    "from sklearn.ensemble import RandomForestRegressor  \n"
   ]
  },
  {
   "cell_type": "code",
   "execution_count": 157,
   "metadata": {},
   "outputs": [
    {
     "name": "stdout",
     "output_type": "stream",
     "text": [
      "Root Mean Squared Error: 0.3391779968003726\n",
      "R^2 Score: 0.9998794554527658\n"
     ]
    }
   ],
   "source": [
    "# Create a Random Forest Regressor\n",
    "rf_model = RandomForestRegressor(random_state=123)\n",
    "\n",
    "# Train the model using the training sets\n",
    "rf_model.fit(X_train_scaled, y_train)\n",
    "\n",
    "# Predicting the target values of the test set\n",
    "rf_y_pred = rf_model.predict(X_test_scaled)\n",
    "\n",
    "# Calculating the Mean Squared Error and R-squared value\n",
    "mse_rf = mean_squared_error(y_test, rf_y_pred)\n",
    "rmse_rf = np.sqrt(mse_rf)\n",
    "r2_rf = r2_score(y_test, rf_y_pred)\n",
    "\n",
    "print(f\"Root Mean Squared Error: {rmse_rf}\")\n",
    "print(f\"R^2 Score: {r2_rf}\")\n",
    "\n"
   ]
  },
  {
   "cell_type": "markdown",
   "metadata": {},
   "source": [
    "#### XGBoost Model"
   ]
  },
  {
   "cell_type": "code",
   "execution_count": 158,
   "metadata": {},
   "outputs": [
    {
     "data": {
      "text/html": [
       "<style>#sk-container-id-3 {color: black;}#sk-container-id-3 pre{padding: 0;}#sk-container-id-3 div.sk-toggleable {background-color: white;}#sk-container-id-3 label.sk-toggleable__label {cursor: pointer;display: block;width: 100%;margin-bottom: 0;padding: 0.3em;box-sizing: border-box;text-align: center;}#sk-container-id-3 label.sk-toggleable__label-arrow:before {content: \"▸\";float: left;margin-right: 0.25em;color: #696969;}#sk-container-id-3 label.sk-toggleable__label-arrow:hover:before {color: black;}#sk-container-id-3 div.sk-estimator:hover label.sk-toggleable__label-arrow:before {color: black;}#sk-container-id-3 div.sk-toggleable__content {max-height: 0;max-width: 0;overflow: hidden;text-align: left;background-color: #f0f8ff;}#sk-container-id-3 div.sk-toggleable__content pre {margin: 0.2em;color: black;border-radius: 0.25em;background-color: #f0f8ff;}#sk-container-id-3 input.sk-toggleable__control:checked~div.sk-toggleable__content {max-height: 200px;max-width: 100%;overflow: auto;}#sk-container-id-3 input.sk-toggleable__control:checked~label.sk-toggleable__label-arrow:before {content: \"▾\";}#sk-container-id-3 div.sk-estimator input.sk-toggleable__control:checked~label.sk-toggleable__label {background-color: #d4ebff;}#sk-container-id-3 div.sk-label input.sk-toggleable__control:checked~label.sk-toggleable__label {background-color: #d4ebff;}#sk-container-id-3 input.sk-hidden--visually {border: 0;clip: rect(1px 1px 1px 1px);clip: rect(1px, 1px, 1px, 1px);height: 1px;margin: -1px;overflow: hidden;padding: 0;position: absolute;width: 1px;}#sk-container-id-3 div.sk-estimator {font-family: monospace;background-color: #f0f8ff;border: 1px dotted black;border-radius: 0.25em;box-sizing: border-box;margin-bottom: 0.5em;}#sk-container-id-3 div.sk-estimator:hover {background-color: #d4ebff;}#sk-container-id-3 div.sk-parallel-item::after {content: \"\";width: 100%;border-bottom: 1px solid gray;flex-grow: 1;}#sk-container-id-3 div.sk-label:hover label.sk-toggleable__label {background-color: #d4ebff;}#sk-container-id-3 div.sk-serial::before {content: \"\";position: absolute;border-left: 1px solid gray;box-sizing: border-box;top: 0;bottom: 0;left: 50%;z-index: 0;}#sk-container-id-3 div.sk-serial {display: flex;flex-direction: column;align-items: center;background-color: white;padding-right: 0.2em;padding-left: 0.2em;position: relative;}#sk-container-id-3 div.sk-item {position: relative;z-index: 1;}#sk-container-id-3 div.sk-parallel {display: flex;align-items: stretch;justify-content: center;background-color: white;position: relative;}#sk-container-id-3 div.sk-item::before, #sk-container-id-3 div.sk-parallel-item::before {content: \"\";position: absolute;border-left: 1px solid gray;box-sizing: border-box;top: 0;bottom: 0;left: 50%;z-index: -1;}#sk-container-id-3 div.sk-parallel-item {display: flex;flex-direction: column;z-index: 1;position: relative;background-color: white;}#sk-container-id-3 div.sk-parallel-item:first-child::after {align-self: flex-end;width: 50%;}#sk-container-id-3 div.sk-parallel-item:last-child::after {align-self: flex-start;width: 50%;}#sk-container-id-3 div.sk-parallel-item:only-child::after {width: 0;}#sk-container-id-3 div.sk-dashed-wrapped {border: 1px dashed gray;margin: 0 0.4em 0.5em 0.4em;box-sizing: border-box;padding-bottom: 0.4em;background-color: white;}#sk-container-id-3 div.sk-label label {font-family: monospace;font-weight: bold;display: inline-block;line-height: 1.2em;}#sk-container-id-3 div.sk-label-container {text-align: center;}#sk-container-id-3 div.sk-container {/* jupyter's `normalize.less` sets `[hidden] { display: none; }` but bootstrap.min.css set `[hidden] { display: none !important; }` so we also need the `!important` here to be able to override the default hidden behavior on the sphinx rendered scikit-learn.org. See: https://github.com/scikit-learn/scikit-learn/issues/21755 */display: inline-block !important;position: relative;}#sk-container-id-3 div.sk-text-repr-fallback {display: none;}</style><div id=\"sk-container-id-3\" class=\"sk-top-container\"><div class=\"sk-text-repr-fallback\"><pre>XGBRegressor(base_score=None, booster=None, callbacks=None,\n",
       "             colsample_bylevel=None, colsample_bynode=None,\n",
       "             colsample_bytree=None, device=None, early_stopping_rounds=None,\n",
       "             enable_categorical=False, eval_metric=None, feature_types=None,\n",
       "             gamma=None, grow_policy=None, importance_type=None,\n",
       "             interaction_constraints=None, learning_rate=None, max_bin=None,\n",
       "             max_cat_threshold=None, max_cat_to_onehot=None,\n",
       "             max_delta_step=None, max_depth=None, max_leaves=None,\n",
       "             min_child_weight=None, missing=nan, monotone_constraints=None,\n",
       "             multi_strategy=None, n_estimators=None, n_jobs=None,\n",
       "             num_parallel_tree=None, random_state=None, ...)</pre><b>In a Jupyter environment, please rerun this cell to show the HTML representation or trust the notebook. <br />On GitHub, the HTML representation is unable to render, please try loading this page with nbviewer.org.</b></div><div class=\"sk-container\" hidden><div class=\"sk-item\"><div class=\"sk-estimator sk-toggleable\"><input class=\"sk-toggleable__control sk-hidden--visually\" id=\"sk-estimator-id-3\" type=\"checkbox\" checked><label for=\"sk-estimator-id-3\" class=\"sk-toggleable__label sk-toggleable__label-arrow\">XGBRegressor</label><div class=\"sk-toggleable__content\"><pre>XGBRegressor(base_score=None, booster=None, callbacks=None,\n",
       "             colsample_bylevel=None, colsample_bynode=None,\n",
       "             colsample_bytree=None, device=None, early_stopping_rounds=None,\n",
       "             enable_categorical=False, eval_metric=None, feature_types=None,\n",
       "             gamma=None, grow_policy=None, importance_type=None,\n",
       "             interaction_constraints=None, learning_rate=None, max_bin=None,\n",
       "             max_cat_threshold=None, max_cat_to_onehot=None,\n",
       "             max_delta_step=None, max_depth=None, max_leaves=None,\n",
       "             min_child_weight=None, missing=nan, monotone_constraints=None,\n",
       "             multi_strategy=None, n_estimators=None, n_jobs=None,\n",
       "             num_parallel_tree=None, random_state=None, ...)</pre></div></div></div></div></div>"
      ],
      "text/plain": [
       "XGBRegressor(base_score=None, booster=None, callbacks=None,\n",
       "             colsample_bylevel=None, colsample_bynode=None,\n",
       "             colsample_bytree=None, device=None, early_stopping_rounds=None,\n",
       "             enable_categorical=False, eval_metric=None, feature_types=None,\n",
       "             gamma=None, grow_policy=None, importance_type=None,\n",
       "             interaction_constraints=None, learning_rate=None, max_bin=None,\n",
       "             max_cat_threshold=None, max_cat_to_onehot=None,\n",
       "             max_delta_step=None, max_depth=None, max_leaves=None,\n",
       "             min_child_weight=None, missing=nan, monotone_constraints=None,\n",
       "             multi_strategy=None, n_estimators=None, n_jobs=None,\n",
       "             num_parallel_tree=None, random_state=None, ...)"
      ]
     },
     "execution_count": 158,
     "metadata": {},
     "output_type": "execute_result"
    }
   ],
   "source": [
    "from xgboost import XGBRegressor\n",
    "\n",
    "# Initialize the regressor\n",
    "xgb_model = XGBRegressor()\n",
    "# Train the model\n",
    "xgb_model.fit(X_train_scaled, y_train)  \n",
    "\n"
   ]
  },
  {
   "cell_type": "code",
   "execution_count": 159,
   "metadata": {},
   "outputs": [],
   "source": [
    "y_pred_xgb = xgb_model.predict(X_test_scaled)\n"
   ]
  },
  {
   "cell_type": "code",
   "execution_count": 160,
   "metadata": {},
   "outputs": [
    {
     "name": "stdout",
     "output_type": "stream",
     "text": [
      "Mean Squared Error: 459.80018342248974\n",
      "Root Mean Squared Error: 21.442951835568017\n",
      "R^2 Score: 0.5182060207894293\n"
     ]
    }
   ],
   "source": [
    "#Calculate Root Mean Squared Error \n",
    "mse = mean_squared_error(y_test, y_pred)\n",
    "rmse = mse**0.5\n",
    "r2 = r2_score(y_test, y_pred)\n",
    "\n",
    "print(f\"Mean Squared Error: {mse}\")\n",
    "print(f\"Root Mean Squared Error: {rmse}\")\n",
    "print(f\"R^2 Score: {r2}\")\n"
   ]
  },
  {
   "cell_type": "markdown",
   "metadata": {},
   "source": [
    "#### The Random Forest Classifier had the best predictions."
   ]
  },
  {
   "cell_type": "markdown",
   "metadata": {},
   "source": [
    "### Deep Learning"
   ]
  },
  {
   "cell_type": "code",
   "execution_count": 161,
   "metadata": {},
   "outputs": [],
   "source": [
    "import tensorflow as tf\n",
    "from tensorflow.keras.models import Sequential\n",
    "from tensorflow.keras.layers import LSTM, Dense\n",
    "from sklearn.model_selection import train_test_split"
   ]
  },
  {
   "cell_type": "code",
   "execution_count": 166,
   "metadata": {},
   "outputs": [
    {
     "data": {
      "text/html": [
       "<div>\n",
       "<style scoped>\n",
       "    .dataframe tbody tr th:only-of-type {\n",
       "        vertical-align: middle;\n",
       "    }\n",
       "\n",
       "    .dataframe tbody tr th {\n",
       "        vertical-align: top;\n",
       "    }\n",
       "\n",
       "    .dataframe thead th {\n",
       "        text-align: right;\n",
       "    }\n",
       "</style>\n",
       "<table border=\"1\" class=\"dataframe\">\n",
       "  <thead>\n",
       "    <tr style=\"text-align: right;\">\n",
       "      <th></th>\n",
       "      <th>date</th>\n",
       "      <th>price_per_unit</th>\n",
       "      <th>item_count</th>\n",
       "      <th>kcal</th>\n",
       "      <th>week</th>\n",
       "      <th>month</th>\n",
       "      <th>quarter</th>\n",
       "      <th>year</th>\n",
       "      <th>total_income_from_each_item</th>\n",
       "      <th>restaurant_name_Beachfront Bar</th>\n",
       "      <th>...</th>\n",
       "      <th>restaurant_name_Fou Cher</th>\n",
       "      <th>restaurant_name_Surfs Up</th>\n",
       "      <th>restaurant_name_Sweet Shack</th>\n",
       "      <th>day_of_week_Friday</th>\n",
       "      <th>day_of_week_Monday</th>\n",
       "      <th>day_of_week_Saturday</th>\n",
       "      <th>day_of_week_Sunday</th>\n",
       "      <th>day_of_week_Thursday</th>\n",
       "      <th>day_of_week_Tuesday</th>\n",
       "      <th>day_of_week_Wednesday</th>\n",
       "    </tr>\n",
       "  </thead>\n",
       "  <tbody>\n",
       "    <tr>\n",
       "      <th>0</th>\n",
       "      <td>2019-01-01</td>\n",
       "      <td>29.22</td>\n",
       "      <td>2.0</td>\n",
       "      <td>931</td>\n",
       "      <td>1</td>\n",
       "      <td>1</td>\n",
       "      <td>1</td>\n",
       "      <td>2019</td>\n",
       "      <td>58.44</td>\n",
       "      <td>0</td>\n",
       "      <td>...</td>\n",
       "      <td>0</td>\n",
       "      <td>0</td>\n",
       "      <td>0</td>\n",
       "      <td>0</td>\n",
       "      <td>0</td>\n",
       "      <td>0</td>\n",
       "      <td>0</td>\n",
       "      <td>0</td>\n",
       "      <td>1</td>\n",
       "      <td>0</td>\n",
       "    </tr>\n",
       "    <tr>\n",
       "      <th>1</th>\n",
       "      <td>2019-01-01</td>\n",
       "      <td>26.42</td>\n",
       "      <td>22.0</td>\n",
       "      <td>763</td>\n",
       "      <td>1</td>\n",
       "      <td>1</td>\n",
       "      <td>1</td>\n",
       "      <td>2019</td>\n",
       "      <td>581.24</td>\n",
       "      <td>0</td>\n",
       "      <td>...</td>\n",
       "      <td>0</td>\n",
       "      <td>0</td>\n",
       "      <td>0</td>\n",
       "      <td>0</td>\n",
       "      <td>0</td>\n",
       "      <td>0</td>\n",
       "      <td>0</td>\n",
       "      <td>0</td>\n",
       "      <td>1</td>\n",
       "      <td>0</td>\n",
       "    </tr>\n",
       "    <tr>\n",
       "      <th>2</th>\n",
       "      <td>2019-01-01</td>\n",
       "      <td>4.87</td>\n",
       "      <td>7.0</td>\n",
       "      <td>478</td>\n",
       "      <td>1</td>\n",
       "      <td>1</td>\n",
       "      <td>1</td>\n",
       "      <td>2019</td>\n",
       "      <td>34.09</td>\n",
       "      <td>0</td>\n",
       "      <td>...</td>\n",
       "      <td>0</td>\n",
       "      <td>0</td>\n",
       "      <td>0</td>\n",
       "      <td>0</td>\n",
       "      <td>0</td>\n",
       "      <td>0</td>\n",
       "      <td>0</td>\n",
       "      <td>0</td>\n",
       "      <td>1</td>\n",
       "      <td>0</td>\n",
       "    </tr>\n",
       "    <tr>\n",
       "      <th>3</th>\n",
       "      <td>2019-01-01</td>\n",
       "      <td>4.18</td>\n",
       "      <td>12.0</td>\n",
       "      <td>490</td>\n",
       "      <td>1</td>\n",
       "      <td>1</td>\n",
       "      <td>1</td>\n",
       "      <td>2019</td>\n",
       "      <td>50.16</td>\n",
       "      <td>0</td>\n",
       "      <td>...</td>\n",
       "      <td>0</td>\n",
       "      <td>0</td>\n",
       "      <td>0</td>\n",
       "      <td>0</td>\n",
       "      <td>0</td>\n",
       "      <td>0</td>\n",
       "      <td>0</td>\n",
       "      <td>0</td>\n",
       "      <td>1</td>\n",
       "      <td>0</td>\n",
       "    </tr>\n",
       "    <tr>\n",
       "      <th>4</th>\n",
       "      <td>2019-01-01</td>\n",
       "      <td>3.21</td>\n",
       "      <td>136.0</td>\n",
       "      <td>284</td>\n",
       "      <td>1</td>\n",
       "      <td>1</td>\n",
       "      <td>1</td>\n",
       "      <td>2019</td>\n",
       "      <td>436.56</td>\n",
       "      <td>0</td>\n",
       "      <td>...</td>\n",
       "      <td>0</td>\n",
       "      <td>0</td>\n",
       "      <td>0</td>\n",
       "      <td>0</td>\n",
       "      <td>0</td>\n",
       "      <td>0</td>\n",
       "      <td>0</td>\n",
       "      <td>0</td>\n",
       "      <td>1</td>\n",
       "      <td>0</td>\n",
       "    </tr>\n",
       "    <tr>\n",
       "      <th>...</th>\n",
       "      <td>...</td>\n",
       "      <td>...</td>\n",
       "      <td>...</td>\n",
       "      <td>...</td>\n",
       "      <td>...</td>\n",
       "      <td>...</td>\n",
       "      <td>...</td>\n",
       "      <td>...</td>\n",
       "      <td>...</td>\n",
       "      <td>...</td>\n",
       "      <td>...</td>\n",
       "      <td>...</td>\n",
       "      <td>...</td>\n",
       "      <td>...</td>\n",
       "      <td>...</td>\n",
       "      <td>...</td>\n",
       "      <td>...</td>\n",
       "      <td>...</td>\n",
       "      <td>...</td>\n",
       "      <td>...</td>\n",
       "      <td>...</td>\n",
       "    </tr>\n",
       "    <tr>\n",
       "      <th>109595</th>\n",
       "      <td>2021-12-31</td>\n",
       "      <td>1.39</td>\n",
       "      <td>0.0</td>\n",
       "      <td>78</td>\n",
       "      <td>52</td>\n",
       "      <td>12</td>\n",
       "      <td>4</td>\n",
       "      <td>2021</td>\n",
       "      <td>0.00</td>\n",
       "      <td>0</td>\n",
       "      <td>...</td>\n",
       "      <td>0</td>\n",
       "      <td>0</td>\n",
       "      <td>1</td>\n",
       "      <td>1</td>\n",
       "      <td>0</td>\n",
       "      <td>0</td>\n",
       "      <td>0</td>\n",
       "      <td>0</td>\n",
       "      <td>0</td>\n",
       "      <td>0</td>\n",
       "    </tr>\n",
       "    <tr>\n",
       "      <th>109596</th>\n",
       "      <td>2021-12-31</td>\n",
       "      <td>5.68</td>\n",
       "      <td>0.0</td>\n",
       "      <td>535</td>\n",
       "      <td>52</td>\n",
       "      <td>12</td>\n",
       "      <td>4</td>\n",
       "      <td>2021</td>\n",
       "      <td>0.00</td>\n",
       "      <td>0</td>\n",
       "      <td>...</td>\n",
       "      <td>0</td>\n",
       "      <td>0</td>\n",
       "      <td>1</td>\n",
       "      <td>1</td>\n",
       "      <td>0</td>\n",
       "      <td>0</td>\n",
       "      <td>0</td>\n",
       "      <td>0</td>\n",
       "      <td>0</td>\n",
       "      <td>0</td>\n",
       "    </tr>\n",
       "    <tr>\n",
       "      <th>109597</th>\n",
       "      <td>2021-12-31</td>\n",
       "      <td>7.70</td>\n",
       "      <td>0.0</td>\n",
       "      <td>636</td>\n",
       "      <td>52</td>\n",
       "      <td>12</td>\n",
       "      <td>4</td>\n",
       "      <td>2021</td>\n",
       "      <td>0.00</td>\n",
       "      <td>0</td>\n",
       "      <td>...</td>\n",
       "      <td>0</td>\n",
       "      <td>0</td>\n",
       "      <td>1</td>\n",
       "      <td>1</td>\n",
       "      <td>0</td>\n",
       "      <td>0</td>\n",
       "      <td>0</td>\n",
       "      <td>0</td>\n",
       "      <td>0</td>\n",
       "      <td>0</td>\n",
       "    </tr>\n",
       "    <tr>\n",
       "      <th>109598</th>\n",
       "      <td>2021-12-31</td>\n",
       "      <td>5.11</td>\n",
       "      <td>0.0</td>\n",
       "      <td>383</td>\n",
       "      <td>52</td>\n",
       "      <td>12</td>\n",
       "      <td>4</td>\n",
       "      <td>2021</td>\n",
       "      <td>0.00</td>\n",
       "      <td>0</td>\n",
       "      <td>...</td>\n",
       "      <td>0</td>\n",
       "      <td>0</td>\n",
       "      <td>1</td>\n",
       "      <td>1</td>\n",
       "      <td>0</td>\n",
       "      <td>0</td>\n",
       "      <td>0</td>\n",
       "      <td>0</td>\n",
       "      <td>0</td>\n",
       "      <td>0</td>\n",
       "    </tr>\n",
       "    <tr>\n",
       "      <th>109599</th>\n",
       "      <td>2021-12-31</td>\n",
       "      <td>6.50</td>\n",
       "      <td>0.0</td>\n",
       "      <td>595</td>\n",
       "      <td>52</td>\n",
       "      <td>12</td>\n",
       "      <td>4</td>\n",
       "      <td>2021</td>\n",
       "      <td>0.00</td>\n",
       "      <td>0</td>\n",
       "      <td>...</td>\n",
       "      <td>0</td>\n",
       "      <td>0</td>\n",
       "      <td>1</td>\n",
       "      <td>1</td>\n",
       "      <td>0</td>\n",
       "      <td>0</td>\n",
       "      <td>0</td>\n",
       "      <td>0</td>\n",
       "      <td>0</td>\n",
       "      <td>0</td>\n",
       "    </tr>\n",
       "  </tbody>\n",
       "</table>\n",
       "<p>109600 rows × 22 columns</p>\n",
       "</div>"
      ],
      "text/plain": [
       "             date  price_per_unit  item_count  kcal  week  month  quarter  \\\n",
       "0      2019-01-01           29.22         2.0   931     1      1        1   \n",
       "1      2019-01-01           26.42        22.0   763     1      1        1   \n",
       "2      2019-01-01            4.87         7.0   478     1      1        1   \n",
       "3      2019-01-01            4.18        12.0   490     1      1        1   \n",
       "4      2019-01-01            3.21       136.0   284     1      1        1   \n",
       "...           ...             ...         ...   ...   ...    ...      ...   \n",
       "109595 2021-12-31            1.39         0.0    78    52     12        4   \n",
       "109596 2021-12-31            5.68         0.0   535    52     12        4   \n",
       "109597 2021-12-31            7.70         0.0   636    52     12        4   \n",
       "109598 2021-12-31            5.11         0.0   383    52     12        4   \n",
       "109599 2021-12-31            6.50         0.0   595    52     12        4   \n",
       "\n",
       "        year  total_income_from_each_item  restaurant_name_Beachfront Bar  \\\n",
       "0       2019                        58.44                               0   \n",
       "1       2019                       581.24                               0   \n",
       "2       2019                        34.09                               0   \n",
       "3       2019                        50.16                               0   \n",
       "4       2019                       436.56                               0   \n",
       "...      ...                          ...                             ...   \n",
       "109595  2021                         0.00                               0   \n",
       "109596  2021                         0.00                               0   \n",
       "109597  2021                         0.00                               0   \n",
       "109598  2021                         0.00                               0   \n",
       "109599  2021                         0.00                               0   \n",
       "\n",
       "        ...  restaurant_name_Fou Cher  restaurant_name_Surfs Up  \\\n",
       "0       ...                         0                         0   \n",
       "1       ...                         0                         0   \n",
       "2       ...                         0                         0   \n",
       "3       ...                         0                         0   \n",
       "4       ...                         0                         0   \n",
       "...     ...                       ...                       ...   \n",
       "109595  ...                         0                         0   \n",
       "109596  ...                         0                         0   \n",
       "109597  ...                         0                         0   \n",
       "109598  ...                         0                         0   \n",
       "109599  ...                         0                         0   \n",
       "\n",
       "        restaurant_name_Sweet Shack  day_of_week_Friday  day_of_week_Monday  \\\n",
       "0                                 0                   0                   0   \n",
       "1                                 0                   0                   0   \n",
       "2                                 0                   0                   0   \n",
       "3                                 0                   0                   0   \n",
       "4                                 0                   0                   0   \n",
       "...                             ...                 ...                 ...   \n",
       "109595                            1                   1                   0   \n",
       "109596                            1                   1                   0   \n",
       "109597                            1                   1                   0   \n",
       "109598                            1                   1                   0   \n",
       "109599                            1                   1                   0   \n",
       "\n",
       "        day_of_week_Saturday  day_of_week_Sunday  day_of_week_Thursday  \\\n",
       "0                          0                   0                     0   \n",
       "1                          0                   0                     0   \n",
       "2                          0                   0                     0   \n",
       "3                          0                   0                     0   \n",
       "4                          0                   0                     0   \n",
       "...                      ...                 ...                   ...   \n",
       "109595                     0                   0                     0   \n",
       "109596                     0                   0                     0   \n",
       "109597                     0                   0                     0   \n",
       "109598                     0                   0                     0   \n",
       "109599                     0                   0                     0   \n",
       "\n",
       "        day_of_week_Tuesday  day_of_week_Wednesday  \n",
       "0                         1                      0  \n",
       "1                         1                      0  \n",
       "2                         1                      0  \n",
       "3                         1                      0  \n",
       "4                         1                      0  \n",
       "...                     ...                    ...  \n",
       "109595                    0                      0  \n",
       "109596                    0                      0  \n",
       "109597                    0                      0  \n",
       "109598                    0                      0  \n",
       "109599                    0                      0  \n",
       "\n",
       "[109600 rows x 22 columns]"
      ]
     },
     "execution_count": 166,
     "metadata": {},
     "output_type": "execute_result"
    }
   ],
   "source": [
    "df_for_modeling"
   ]
  },
  {
   "cell_type": "code",
   "execution_count": 162,
   "metadata": {},
   "outputs": [],
   "source": [
    "# Split features (X) and target variable (y)\n",
    "X = df_for_modeling.drop('total_income_from_each_item', axis=1)\n",
    "y = df_for_modeling['total_income_from_each_item']\n",
    "\n",
    "# Split the dataset into training and testing sets\n",
    "X_train, X_test, y_train, y_test = train_test_split(X, y, test_size=0.2)\n",
    "\n",
    "# Initialize the scaler\n",
    "scaler = StandardScaler()\n",
    "\n",
    "# Fit on training data\n",
    "scaler.fit(X_train)  # Calculate mean and standard deviation only from the training data\n",
    "\n",
    "# Transform training data\n",
    "X_train_scaled = scaler.transform(X_train)\n",
    "\n",
    "# Transform testing data\n",
    "X_test_scaled = scaler.transform(X_test)\n"
   ]
  },
  {
   "cell_type": "code",
   "execution_count": 165,
   "metadata": {},
   "outputs": [
    {
     "name": "stdout",
     "output_type": "stream",
     "text": [
      "Shape of X_train_scaled: (91100, 20)\n"
     ]
    }
   ],
   "source": [
    "print(\"Shape of X_train_scaled:\", X_train_scaled.shape)"
   ]
  },
  {
   "cell_type": "code",
   "execution_count": 169,
   "metadata": {},
   "outputs": [
    {
     "name": "stdout",
     "output_type": "stream",
     "text": [
      "Shape of X_reshaped: (91094, 7, 20)\n"
     ]
    }
   ],
   "source": [
    "# Reshape input data to include 'date' as a third dimension\n",
    "# Specify sequence length and other parameters as needed\n",
    "sequence_length = 7\n",
    "n_features = X_train_scaled.shape[1]\n",
    "n_samples = len(X_train_scaled) - sequence_length + 1\n",
    "\n",
    "# Reshape input data\n",
    "X_reshaped = np.zeros((n_samples, sequence_length, n_features))\n",
    "\n",
    "for i in range(n_samples):\n",
    "    X_reshaped[i] = X_train_scaled[i:i+sequence_length]\n",
    "\n",
    "# Verify the shape of the reshaped input data\n",
    "print(\"Shape of X_reshaped:\", X_reshaped.shape)"
   ]
  },
  {
   "cell_type": "code",
   "execution_count": 171,
   "metadata": {},
   "outputs": [
    {
     "name": "stderr",
     "output_type": "stream",
     "text": [
      "c:\\Users\\Sonal\\AppData\\Local\\Programs\\Python\\Python312\\Lib\\site-packages\\keras\\src\\layers\\rnn\\rnn.py:205: UserWarning: Do not pass an `input_shape`/`input_dim` argument to a layer. When using Sequential models, prefer using an `Input(shape)` object as the first layer in the model instead.\n",
      "  super().__init__(**kwargs)\n"
     ]
    },
    {
     "data": {
      "text/html": [
       "<pre style=\"white-space:pre;overflow-x:auto;line-height:normal;font-family:Menlo,'DejaVu Sans Mono',consolas,'Courier New',monospace\"><span style=\"font-weight: bold\">Model: \"sequential\"</span>\n",
       "</pre>\n"
      ],
      "text/plain": [
       "\u001b[1mModel: \"sequential\"\u001b[0m\n"
      ]
     },
     "metadata": {},
     "output_type": "display_data"
    },
    {
     "data": {
      "text/html": [
       "<pre style=\"white-space:pre;overflow-x:auto;line-height:normal;font-family:Menlo,'DejaVu Sans Mono',consolas,'Courier New',monospace\">┏━━━━━━━━━━━━━━━━━━━━━━━━━━━━━━━━━┳━━━━━━━━━━━━━━━━━━━━━━━━┳━━━━━━━━━━━━━━━┓\n",
       "┃<span style=\"font-weight: bold\"> Layer (type)                    </span>┃<span style=\"font-weight: bold\"> Output Shape           </span>┃<span style=\"font-weight: bold\">       Param # </span>┃\n",
       "┡━━━━━━━━━━━━━━━━━━━━━━━━━━━━━━━━━╇━━━━━━━━━━━━━━━━━━━━━━━━╇━━━━━━━━━━━━━━━┩\n",
       "│ lstm (<span style=\"color: #0087ff; text-decoration-color: #0087ff\">LSTM</span>)                     │ (<span style=\"color: #00d7ff; text-decoration-color: #00d7ff\">None</span>, <span style=\"color: #00af00; text-decoration-color: #00af00\">50</span>)             │        <span style=\"color: #00af00; text-decoration-color: #00af00\">14,200</span> │\n",
       "├─────────────────────────────────┼────────────────────────┼───────────────┤\n",
       "│ dense (<span style=\"color: #0087ff; text-decoration-color: #0087ff\">Dense</span>)                   │ (<span style=\"color: #00d7ff; text-decoration-color: #00d7ff\">None</span>, <span style=\"color: #00af00; text-decoration-color: #00af00\">1</span>)              │            <span style=\"color: #00af00; text-decoration-color: #00af00\">51</span> │\n",
       "└─────────────────────────────────┴────────────────────────┴───────────────┘\n",
       "</pre>\n"
      ],
      "text/plain": [
       "┏━━━━━━━━━━━━━━━━━━━━━━━━━━━━━━━━━┳━━━━━━━━━━━━━━━━━━━━━━━━┳━━━━━━━━━━━━━━━┓\n",
       "┃\u001b[1m \u001b[0m\u001b[1mLayer (type)                   \u001b[0m\u001b[1m \u001b[0m┃\u001b[1m \u001b[0m\u001b[1mOutput Shape          \u001b[0m\u001b[1m \u001b[0m┃\u001b[1m \u001b[0m\u001b[1m      Param #\u001b[0m\u001b[1m \u001b[0m┃\n",
       "┡━━━━━━━━━━━━━━━━━━━━━━━━━━━━━━━━━╇━━━━━━━━━━━━━━━━━━━━━━━━╇━━━━━━━━━━━━━━━┩\n",
       "│ lstm (\u001b[38;5;33mLSTM\u001b[0m)                     │ (\u001b[38;5;45mNone\u001b[0m, \u001b[38;5;34m50\u001b[0m)             │        \u001b[38;5;34m14,200\u001b[0m │\n",
       "├─────────────────────────────────┼────────────────────────┼───────────────┤\n",
       "│ dense (\u001b[38;5;33mDense\u001b[0m)                   │ (\u001b[38;5;45mNone\u001b[0m, \u001b[38;5;34m1\u001b[0m)              │            \u001b[38;5;34m51\u001b[0m │\n",
       "└─────────────────────────────────┴────────────────────────┴───────────────┘\n"
      ]
     },
     "metadata": {},
     "output_type": "display_data"
    },
    {
     "data": {
      "text/html": [
       "<pre style=\"white-space:pre;overflow-x:auto;line-height:normal;font-family:Menlo,'DejaVu Sans Mono',consolas,'Courier New',monospace\"><span style=\"font-weight: bold\"> Total params: </span><span style=\"color: #00af00; text-decoration-color: #00af00\">14,251</span> (55.67 KB)\n",
       "</pre>\n"
      ],
      "text/plain": [
       "\u001b[1m Total params: \u001b[0m\u001b[38;5;34m14,251\u001b[0m (55.67 KB)\n"
      ]
     },
     "metadata": {},
     "output_type": "display_data"
    },
    {
     "data": {
      "text/html": [
       "<pre style=\"white-space:pre;overflow-x:auto;line-height:normal;font-family:Menlo,'DejaVu Sans Mono',consolas,'Courier New',monospace\"><span style=\"font-weight: bold\"> Trainable params: </span><span style=\"color: #00af00; text-decoration-color: #00af00\">14,251</span> (55.67 KB)\n",
       "</pre>\n"
      ],
      "text/plain": [
       "\u001b[1m Trainable params: \u001b[0m\u001b[38;5;34m14,251\u001b[0m (55.67 KB)\n"
      ]
     },
     "metadata": {},
     "output_type": "display_data"
    },
    {
     "data": {
      "text/html": [
       "<pre style=\"white-space:pre;overflow-x:auto;line-height:normal;font-family:Menlo,'DejaVu Sans Mono',consolas,'Courier New',monospace\"><span style=\"font-weight: bold\"> Non-trainable params: </span><span style=\"color: #00af00; text-decoration-color: #00af00\">0</span> (0.00 B)\n",
       "</pre>\n"
      ],
      "text/plain": [
       "\u001b[1m Non-trainable params: \u001b[0m\u001b[38;5;34m0\u001b[0m (0.00 B)\n"
      ]
     },
     "metadata": {},
     "output_type": "display_data"
    },
    {
     "name": "stdout",
     "output_type": "stream",
     "text": [
      "None\n"
     ]
    }
   ],
   "source": [
    "# Define the LSTM model\n",
    "lstm_model = Sequential([\n",
    "    LSTM(units=50, input_shape=(7, 20)),  # LSTM layer with 50 units and input shape (7, 20)\n",
    "    Dense(units=1)  # Output layer with 1 unit\n",
    "])\n",
    "\n",
    "# Compile the model\n",
    "lstm_model.compile(optimizer='adam', loss='mse')\n",
    "\n",
    "# Print model summary\n",
    "print(lstm_model.summary())\n"
   ]
  },
  {
   "cell_type": "markdown",
   "metadata": {},
   "source": []
  }
 ],
 "metadata": {
  "kernelspec": {
   "display_name": "Python 3",
   "language": "python",
   "name": "python3"
  },
  "language_info": {
   "codemirror_mode": {
    "name": "ipython",
    "version": 3
   },
   "file_extension": ".py",
   "mimetype": "text/x-python",
   "name": "python",
   "nbconvert_exporter": "python",
   "pygments_lexer": "ipython3",
   "version": "3.12.0"
  }
 },
 "nbformat": 4,
 "nbformat_minor": 2
}
